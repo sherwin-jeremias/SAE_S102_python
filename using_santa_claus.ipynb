{
 "cells": [
  {
   "cell_type": "code",
   "execution_count": null,
   "id": "08fdb48e-8d75-449f-84c6-16f11aefc904",
   "metadata": {},
   "outputs": [],
   "source": [
    "#Travail fait par Jérémias Sherwin et Dubord Ruben. BUT INFO 1, Boréas.\n"
   ]
  },
  {
   "cell_type": "code",
   "execution_count": null,
   "id": "d23a12fd-56d5-4974-b3cc-e0b989d5540f",
   "metadata": {},
   "outputs": [],
   "source": [
    "from santa_claus import *\n",
    "from test_santa_claus import *"
   ]
  },
  {
   "cell_type": "markdown",
   "id": "ca724da3-6f38-4232-8bf3-703d30742a3f",
   "metadata": {},
   "source": [
    "## Question 4\n",
    "Comparer théoriquement et expériementalement les complexités des fonctions `long_tour` et `tour_length`."
   ]
  },
  {
   "cell_type": "code",
   "execution_count": 24,
   "id": "1237c07f-8c6f-4f61-a207-78cb993d5f7a",
   "metadata": {},
   "outputs": [
    {
     "name": "stdout",
     "output_type": "stream",
     "text": [
      "La fonction tour_length a pris 0.0 secondes à s'exécuter\n",
      "\n",
      "La fonction long_tour a pris 0.0010025501251220703 secondes à s'exécuter\n"
     ]
    }
   ],
   "source": [
    "# tour_length est de complexité asymptotique Linéaire en O(n) là où long_tour est en complexité asymptotique Quadratique en O(n²), tour_length est donc théoriquement plus rapide à l'exécution.\n",
    "\n",
    "t_tour_length1 = time()\n",
    "\n",
    "tour_length([\"Paris\", \"Lyon\", \"Marseille\", \"Lille\"], d_villes)\n",
    "\n",
    "t_tour_length2 = time()\n",
    "print(\"La fonction tour_length a pris\", t_tour_length2-t_tour_length1,\"secondes à s'exécuter\")\n",
    "\n",
    "t_long_tour1 = time()\n",
    "\n",
    "long_tour([\"Paris\",2.33,48.86, \"Lyon\",4.85,45.75, \n",
    "          \"Marseille\", 5.40,43.30, \"Lille\",3.06,50.63, \n",
    "          \"Strasbourg\",7.75,48.57, \"Rennes\",-1.66,48.11, \n",
    "          \"Clermont-Ferrand\",3.08,45.77, \"Bordeaux\", -0.57, 44.83], [\"Paris\", \"Lyon\", \"Marseille\", \"Lille\"])\n",
    "\n",
    "t_long_tour2 = time()\n",
    "\n",
    "\n",
    "print(\"\\nLa fonction long_tour a pris\", t_long_tour2-t_long_tour1,\"secondes à s'exécuter\")"
   ]
  },
  {
   "cell_type": "markdown",
   "id": "643b321e-0b33-47cc-adab-f5a07164bb65",
   "metadata": {},
   "source": [
    "\n",
    "\n",
    "## Question 8\n",
    "Quelle est la complexité asymptotique de la fonction `best_tour_from_closest_city` ? Justifiez.\n",
    "\n"
   ]
  },
  {
   "cell_type": "raw",
   "id": "33900089-e5de-4101-a089-7835a0181e1d",
   "metadata": {},
   "source": [
    "La complexité asymptotique de cette fonction est en Quadratique en O(n²) car on effectue n fois les opérations pour n éléments et parce qu'on appelle des fonctions qui sont elles-mêmes quadratiques / linéaires."
   ]
  },
  {
   "cell_type": "markdown",
   "id": "dc9540cf-2b17-4cb9-ae30-5b78d4f07cce",
   "metadata": {},
   "source": [
    "## Question 13\n",
    "Comparer expérimentalement les différentes manières d'obtenir un tour :\n",
    "\n",
    "* algorithme construisant un tour en ajoutant successivement la ville la plus proche (en partant d'une ville aléatoire),\n",
    "\n",
    "* cet algorithme répété en essayant chaque ville comme ville de départ,\n",
    "\n",
    "* l'utilisation de la méthode d'amélioration par inversion pour améliorer les tours obtenus par les deux précédentes méthodes,\n",
    "\n",
    "* d'autres méthodes que vous aurez implémentées (optionnel).\n",
    "\n",
    "Comparer pour plusieurs fichiers de villes le temps d'exécution et la qualité des solutions obtenues par les différentes méthodes. Quelle est la meilleure méthode ?"
   ]
  },
  {
   "cell_type": "code",
   "execution_count": 25,
   "id": "2c200af6-c560-48bf-af77-862cc2589fd7",
   "metadata": {},
   "outputs": [
    {
     "name": "stdout",
     "output_type": "stream",
     "text": [
      "Ville aléatoire choisie: Lyon\n",
      "\n",
      "Résultat de tour_from_closest_city:  ['Lyon', 'Marseille', 'Paris', 'Lille']\n",
      "La fonction tour_from_closest_city s'est effectuée en 0.0 secondes pour une ville aléatoire.\n",
      "\n",
      "Résultat de best_tour_from_closest_city:  ['Paris', 'Lille', 'Lyon', 'Marseille']\n",
      "La fonction best_tour_from_closest_city s'est effectuée en 0.0 secondes pour le dictionnaire de ville défini au début.\n",
      "\n",
      "Résultat de best_obtained_with_inversions:  0\n",
      "La fonction best_obtained_with_inversions s'est effectuée en 0.0 secondes pour le tour obtenu à partir de la fonction tour_from_closest_city.\n",
      "La distance du tour obtenu par tour_from_closest_city est :  1699.9607882803707\n",
      "La distance du tour obtenu par best_tour_from_closest_city est :  1699.9607882803707\n"
     ]
    }
   ],
   "source": [
    "t1 = time()\n",
    "\n",
    "random_ville = choice(list(d_villes.keys()))\n",
    "print(\"Ville aléatoire choisie:\", random_ville)\n",
    "\n",
    "tour_from_closest_city(random_ville, d_villes)\n",
    "\n",
    "t2 = time()\n",
    "\n",
    "tour1 = tour_from_closest_city(random_ville, d_villes)\n",
    "print(\"\\nRésultat de tour_from_closest_city: \", tour1)\n",
    "print(\"La fonction tour_from_closest_city s'est effectuée en\",t2-t1,\"secondes pour une ville aléatoire.\")\n",
    "\n",
    "\n",
    "t3 = time()\n",
    "\n",
    "best_tour_from_closest_city(d_villes)\n",
    "\n",
    "t4 = time()\n",
    "\n",
    "\n",
    "tour2 = best_tour_from_closest_city(d_villes)\n",
    "print(\"\\nRésultat de best_tour_from_closest_city: \", tour2)\n",
    "print(\"La fonction best_tour_from_closest_city s'est effectuée en\",t4-t3,\"secondes pour le dictionnaire de ville défini au début.\")\n",
    "\n",
    "t5 = time()\n",
    "\n",
    "best_obtained_with_inversions(tour1, d_villes)\n",
    "\n",
    "t6 = time()\n",
    "\n",
    "tour3 = best_obtained_with_inversions(tour1, d_villes)\n",
    "print(\"\\nRésultat de best_obtained_with_inversions: \", tour3)\n",
    "print(\"La fonction best_obtained_with_inversions s'est effectuée en\",t6-t5,\"secondes pour le tour obtenu à partir de la fonction tour_from_closest_city.\")\n",
    "\n",
    "\n",
    "print(\"La distance du tour obtenu par tour_from_closest_city est : \",tour_length(tour1, d_villes))\n",
    "print(\"La distance du tour obtenu par best_tour_from_closest_city est : \",tour_length(tour2, d_villes))"
   ]
  }
 ],
 "metadata": {
  "kernelspec": {
   "display_name": "Python 3 (ipykernel)",
   "language": "python",
   "name": "python3"
  },
  "language_info": {
   "codemirror_mode": {
    "name": "ipython",
    "version": 3
   },
   "file_extension": ".py",
   "mimetype": "text/x-python",
   "name": "python",
   "nbconvert_exporter": "python",
   "pygments_lexer": "ipython3",
   "version": "3.12.0"
  }
 },
 "nbformat": 4,
 "nbformat_minor": 5
}
